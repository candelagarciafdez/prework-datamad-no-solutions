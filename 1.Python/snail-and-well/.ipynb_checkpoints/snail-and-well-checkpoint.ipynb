{
 "cells": [
  {
   "cell_type": "markdown",
   "metadata": {},
   "source": [
    "# Snail and well\n",
    "\n",
    "A snail falls at the bottom of a 125 cm well. Each day the snail rises 30 cm. But at night, while sleeping, slides 20 cm because the walls are wet. How many days does it take to escape from the well?\n",
    "\n",
    "TIP: http://puzzles.nigelcoldwell.co.uk/sixtytwo.htm"
   ]
  },
  {
   "cell_type": "markdown",
   "metadata": {},
   "source": [
    "## Solución"
   ]
  },
  {
   "cell_type": "code",
   "execution_count": 1,
   "metadata": {},
   "outputs": [
    {
     "name": "stdout",
     "output_type": "stream",
     "text": [
      "11\n"
     ]
    }
   ],
   "source": [
    "# Assign problem data to variables with representative names\n",
    "# well height, daily advance, night retreat, accumulated distance\n",
    "\n",
    "well_height = 0\n",
    "daily_distance = 30\n",
    "nightly_distance = 20\n",
    "snail_position = -125\n",
    "\n",
    "\n",
    "# Assign 0 to the variable that represents the solution\n",
    "days = 0 \n",
    "\n",
    "# Write the code that solves the problem\n",
    "days = 0 \n",
    "while snail_position < well_height:\n",
    "    days = days + 1 \n",
    "    snail_position = snail_position + daily_distance\n",
    "    \n",
    "    if snail_position < well_height:\n",
    "        snail_position = snail_position - nightly_distance\n",
    "    \n",
    "    else:\n",
    "       break\n",
    "\n",
    "# Print the result with print('Days =', days)\n",
    "print(days)\n"
   ]
  },
  {
   "cell_type": "markdown",
   "metadata": {},
   "source": [
    "**Expected output**: \n",
    "```\n",
    "Days = 11\n",
    "```"
   ]
  },
  {
   "cell_type": "markdown",
   "metadata": {},
   "source": [
    "## Goals\n",
    "\n",
    "1. Treatment of variables\n",
    "2. Use of loop **while**\n",
    "3. Use of conditional **if-else**\n",
    "4. Print in console"
   ]
  },
  {
   "cell_type": "markdown",
   "metadata": {},
   "source": [
    "## Bonus\n",
    "The distance traveled by the snail is now defined by a list.\n",
    "```\n",
    "advance_cm = [30, 21, 33, 77, 44, 45, 23, 45, 12, 34, 55]\n",
    "```\n",
    "How long does it take to raise the well?\n",
    "\n",
    "What is its maximum displacement in one day? And its minimum?\n",
    "\n",
    "What is its average speed during the day?\n",
    "\n",
    "What is the standard deviation of its displacement during the day?"
   ]
  },
  {
   "cell_type": "code",
   "execution_count": 2,
   "metadata": {},
   "outputs": [
    {
     "name": "stdout",
     "output_type": "stream",
     "text": [
      "dia 1\n",
      "Snail goes up 30 to -95\n",
      "Snail goes down 20 to -115\n",
      "dia 2\n",
      "Snail goes up 21 to -94\n",
      "Snail goes down 20 to -114\n",
      "dia 3\n",
      "Snail goes up 33 to -81\n",
      "Snail goes down 20 to -101\n",
      "dia 4\n",
      "Snail goes up 77 to -24\n",
      "Snail goes down 20 to -44\n",
      "dia 5\n",
      "Snail goes up 44 to 0\n",
      "Snail is out\n",
      "5\n"
     ]
    }
   ],
   "source": [
    "# Assign problem data to variables with representative names\n",
    "# well height, daily advance, night retreat, accumulated distance\n",
    "advance_cm = [30, 21, 33, 77, 44, 45, 23, 45, 12, 34, 55]\n",
    "\n",
    "snail_position = -125\n",
    "\n",
    "# Assign 0 to the variable that represents the solution\n",
    "days = 0\n",
    "\n",
    "# Write the code that solves the problem\n",
    "\n",
    "\n",
    "\n",
    "# Print the result with print('Days =', days)\n",
    "\n",
    "for distance_up in advance_cm:\n",
    "  days = days + 1\n",
    "  print('dia', days)\n",
    "  snail_position = snail_position + distance_up\n",
    "  print('Snail goes up', distance_up, 'to', snail_position)\n",
    "  if snail_position < well_height:\n",
    "    snail_position = snail_position-20\n",
    "    print('Snail goes down', 20, 'to', snail_position)\n",
    "  else:\n",
    "    print('Snail is out')\n",
    "    break\n",
    "    \n",
    "    \n",
    "print(days)\n"
   ]
  },
  {
   "cell_type": "markdown",
   "metadata": {},
   "source": [
    "**Expected output**: \n",
    "```\n",
    "Days = 6\n",
    "```"
   ]
  },
  {
   "cell_type": "code",
   "execution_count": 3,
   "metadata": {},
   "outputs": [
    {
     "name": "stdout",
     "output_type": "stream",
     "text": [
      "The minimum displacement is 12\n",
      "The maximum displacement is 77\n"
     ]
    }
   ],
   "source": [
    "# What is its maximum displacement in a day? And its minimum?\n",
    "\n",
    "minimum = min(advance_cm)\n",
    "\n",
    "maximum = max(advance_cm)\n",
    "\n",
    "\n",
    "print(\"The minimum displacement is\", minimum)\n",
    "print(\"The maximum displacement is\", maximum)"
   ]
  },
  {
   "cell_type": "markdown",
   "metadata": {},
   "source": [
    "**Expected output**: \n",
    "```\n",
    "77 12\n",
    "```"
   ]
  },
  {
   "cell_type": "code",
   "execution_count": 4,
   "metadata": {},
   "outputs": [
    {
     "name": "stdout",
     "output_type": "stream",
     "text": [
      "The average progress is 38.09090909090909\n"
     ]
    }
   ],
   "source": [
    "# What is its average progress?\n",
    "\n",
    "average = sum(advance_cm)/len(advance_cm)\n",
    "\n",
    "print(\"The average progress is\", average)\n"
   ]
  },
  {
   "cell_type": "markdown",
   "metadata": {},
   "source": [
    "**Expected output**: \n",
    "```\n",
    "38.09090909090909\n",
    "```"
   ]
  },
  {
   "cell_type": "code",
   "execution_count": 5,
   "metadata": {},
   "outputs": [
    {
     "name": "stdout",
     "output_type": "stream",
     "text": [
      "[65.46280991735541, 292.0991735537191, 25.917355371900854, 1513.9173553719006, 34.9173553719008, 47.73553719008261, 227.7355371900827, 47.73553719008261, 680.7355371900828, 16.735537190082667, 285.9173553719007]\n",
      "294.44628099173553\n",
      "The standar deviation is 17.159437082600803\n"
     ]
    }
   ],
   "source": [
    "# What is the standard deviation of your displacement during the day?\n",
    "cuadrado_distancia_media =[(element-average)**2 for element in advance_cm]\n",
    "print(cuadrado_distancia_media)\n",
    "varianza=sum(cuadrado_distancia_media)/len(cuadrado_distancia_media)\n",
    "print(varianza)\n",
    "print (\"The standar deviation is\", varianza**0.5)"
   ]
  },
  {
   "cell_type": "markdown",
   "metadata": {},
   "source": [
    "**Expected output**: \n",
    "```\n",
    "17.159437082600803\n",
    "```"
   ]
  }
 ],
 "metadata": {
  "kernelspec": {
   "display_name": "Python 3",
   "language": "python",
   "name": "python3"
  },
  "language_info": {
   "codemirror_mode": {
    "name": "ipython",
    "version": 3
   },
   "file_extension": ".py",
   "mimetype": "text/x-python",
   "name": "python",
   "nbconvert_exporter": "python",
   "pygments_lexer": "ipython3",
   "version": "3.7.8"
  }
 },
 "nbformat": 4,
 "nbformat_minor": 2
}
